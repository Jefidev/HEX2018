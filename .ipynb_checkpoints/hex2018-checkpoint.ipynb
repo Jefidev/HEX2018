{
 "cells": [
  {
   "cell_type": "code",
   "execution_count": 2,
   "metadata": {},
   "outputs": [
    {
     "ename": "SyntaxError",
     "evalue": "invalid syntax (<ipython-input-2-92deba3e02cd>, line 8)",
     "output_type": "error",
     "traceback": [
      "\u001b[1;36m  File \u001b[1;32m\"<ipython-input-2-92deba3e02cd>\"\u001b[1;36m, line \u001b[1;32m8\u001b[0m\n\u001b[1;33m    'capacity' : 140\u001b[0m\n\u001b[1;37m             ^\u001b[0m\n\u001b[1;31mSyntaxError\u001b[0m\u001b[1;31m:\u001b[0m invalid syntax\n"
     ]
    }
   ],
   "source": [
    "\n",
    "\n",
    "# Bus Data\n",
    "\n",
    "busData = {\n",
    "    'LPA': {\n",
    "        'cost' : 570000,\n",
    "        'capacity' : 140\n",
    "    },\n",
    "    'LP':{\n",
    "        'cost' : 390000,\n",
    "        'capacity' : 92\n",
    "    },\n",
    "    'LE': {\n",
    "        'cost' : 350000,\n",
    "        'capacity' : 60\n",
    "    }\n",
    "}\n"
   ]
  },
  {
   "cell_type": "code",
   "execution_count": null,
   "metadata": {
    "collapsed": true
   },
   "outputs": [],
   "source": [
    "### Cost Function\n",
    "\n",
    "\n",
    "def costFunction(numLFA, numLF, numLE):\n",
    "    return (numLFA * busData[LPA]['cost']) + (numLF * busData[LP]['cost']) + (numLE * busData[LE]['cost'])\n"
   ]
  },
  {
   "cell_type": "code",
   "execution_count": 5,
   "metadata": {
    "collapsed": true
   },
   "outputs": [],
   "source": [
    "### Initializing Data\n",
    "\n",
    "data = {\n",
    "    'timeslot_1': {\n",
    "        'time': 240,\n",
    "        \n",
    "        'route_1' : {\n",
    "            'passengers' : 700,\n",
    "            'bus_frequency' : 10,\n",
    "            'distance' : 10,\n",
    "            'duration' : 30\n",
    "        },\n",
    "        \n",
    "        'route_2' : {\n",
    "            'passengers' : 2000,\n",
    "            'bus_frequency' : 10,\n",
    "            'distance' : 10,\n",
    "            'duration' : 40\n",
    "        }\n",
    "        \n",
    "    }\n",
    "}"
   ]
  },
  {
   "cell_type": "code",
   "execution_count": null,
   "metadata": {
    "collapsed": true
   },
   "outputs": [],
   "source": [
    "### Importing Modules\n",
    "\n",
    "import pandas\n",
    "import pulp"
   ]
  },
  {
   "cell_type": "code",
   "execution_count": null,
   "metadata": {
    "collapsed": true
   },
   "outputs": [],
   "source": [
    "### Calculating max appearance from timeslot, route\n",
    "\n",
    "def maxAppearanceLPA(route,timeslot,numLPA):\n",
    "    timeslotDuration = data[timeslot][time]\n",
    "    roundtripDuration = data[timeslot][route]['duration']\n",
    "    \n",
    "    maxAppearLPA = numLPA*timeslotDuration/roundtripDuration\n",
    "    return maxAppearLPA\n",
    "\n",
    "def maxAppearanceLP(route,timeslot,numLP):\n",
    "    timeslotDuration = data[timeslot][time]\n",
    "    roundtripDuration = data[timeslot][route]['duration']\n",
    "    \n",
    "    maxAppearLP = numLP*timeslotDuration/roundtripDuration\n",
    "    return maxAppearLP\n",
    "\n",
    "def maxAppearanceLE(route,timeslot,numLE):\n",
    "    timeslotDuration = data[timeslot][time]\n",
    "    roundtripDuration = data[timeslot][route]['duration']\n",
    "    \n",
    "    maxAppearLE = numLE*timeslotDuration/roundtripDuration\n",
    "    return maxLE"
   ]
  },
  {
   "cell_type": "code",
   "execution_count": null,
   "metadata": {
    "collapsed": true
   },
   "outputs": [],
   "source": [
    "### Linear Programming Optimization\n",
    "\n",
    "def solveLP(route,timeslot):\n",
    "\n",
    "    # Instantiate Problem\n",
    "    model = pulp.LpProblem(\"Cost Optimisation\", pulp.LpMinimize)\n",
    "\n",
    "    # Number of buses of types\n",
    "    numLPA = pulp.LpVariable('numLPA',lowBound = 0, cat = 'Integer')\n",
    "    numLP = pulp.LpVariable('numLP',lowBound = 0, cat = 'Integer')\n",
    "    numLE = pulp.LpVariable('numLE',lowBound = 0, cat = 'Integer')\n",
    "\n",
    "    # Objective function\n",
    "    model += costFunction(numLPA,numLP,numLE), \"Cost\"\n",
    "\n",
    "    # Constraint 1 (Number of bus appearances)\n",
    "    \n",
    "    model += (maxAppearanceLPA + maxAppearanceLP + maxAppearanceLE) <= data[timeslot][time]/data[timeslot][route]['bus_frequency']\n",
    "    \n",
    "    # Constraint 2 (Passenger Capacity)\n",
    "\n",
    "    model += (maxAppearanceLPA(route,timeslot,numLPA)*busData['LPA']['capacity']+\n",
    "                maxAppearanceLP(route,timeslot,numLP)*busData['LP']['capacity']+\n",
    "                maxAppearanceLE(route,timeslot,numLE)*busData['LE']['capacity']) <= data[timeslot][route]['passengers']\n",
    "    \n",
    "    \n",
    "    # Solving\n",
    "    \n",
    "    model.solve()\n",
    "    print('Status: ' + pulp.LpStatus[model.status])\n",
    "    \n",
    "    print('numLPA: {}'.format(numLPA.varValue))\n",
    "    print('numLP: {}'.format(numLP.varValue))\n",
    "    print('numLE: {}'.format(numLE.varValue))\n",
    "    \n",
    "    print('Cost: ' + pulp.value(model.objective))"
   ]
  }
 ],
 "metadata": {
  "kernelspec": {
   "display_name": "Python 3",
   "language": "python",
   "name": "python3"
  },
  "language_info": {
   "codemirror_mode": {
    "name": "ipython",
    "version": 3
   },
   "file_extension": ".py",
   "mimetype": "text/x-python",
   "name": "python",
   "nbconvert_exporter": "python",
   "pygments_lexer": "ipython3",
   "version": "3.6.1"
  }
 },
 "nbformat": 4,
 "nbformat_minor": 2
}
