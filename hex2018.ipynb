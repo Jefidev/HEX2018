{
 "cells": [
  {
   "cell_type": "code",
   "execution_count": null,
   "metadata": {},
   "outputs": [],
   "source": [
    "LFA_cost = 570000\n",
    "LF_cost = 390000\n",
    "LE_cost = 350000\n",
    "\n",
    "def costFunction(LFA, LF, LE):\n",
    "    return (LFA * LFA_cost) + (LF * LF_cost) + (LE * LE_cost)\n"
   ]
  },
  {
   "cell_type": "code",
   "execution_count": 5,
   "metadata": {},
   "outputs": [],
   "source": [
    "data = {\n",
    "    'timeslot_1': {\n",
    "        'time': 240,\n",
    "        \n",
    "        'route_1' : {\n",
    "            'passengers' : 700,\n",
    "            'bus_frequency' : 10,\n",
    "            'distance' : 10,\n",
    "            'duration' : 30\n",
    "        },\n",
    "        \n",
    "        'route_2' : {\n",
    "            'passengers' : 2000,\n",
    "            'bus_frequency' : 10,\n",
    "            'distance' : 10,\n",
    "            'duration' : 40\n",
    "        }\n",
    "        \n",
    "    }\n",
    "}"
   ]
  },
  {
   "cell_type": "code",
   "execution_count": null,
   "metadata": {},
   "outputs": [],
   "source": []
  }
 ],
 "metadata": {
  "kernelspec": {
   "display_name": "ML",
   "language": "python",
   "name": "ml"
  },
  "language_info": {
   "codemirror_mode": {
    "name": "ipython",
    "version": 3
   },
   "file_extension": ".py",
   "mimetype": "text/x-python",
   "name": "python",
   "nbconvert_exporter": "python",
   "pygments_lexer": "ipython3",
   "version": "3.6.3"
  }
 },
 "nbformat": 4,
 "nbformat_minor": 2
}
