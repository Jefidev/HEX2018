{
 "cells": [
  {
   "cell_type": "code",
   "execution_count": 6,
   "metadata": {
    "collapsed": true
   },
   "outputs": [
    {
     "data": {
      "text/plain": [
       "['Collecting pulp',\n",
       " '  Downloading PuLP-1.6.8.tar.gz (13.5MB)',\n",
       " 'Requirement already satisfied: pyparsing>=2.0.1 in /Users/simongenin/anaconda/envs/ML/lib/python3.6/site-packages (from pulp)',\n",
       " 'Building wheels for collected packages: pulp',\n",
       " '  Running setup.py bdist_wheel for pulp: started',\n",
       " \"  Running setup.py bdist_wheel for pulp: finished with status 'done'\",\n",
       " '  Stored in directory: /Users/simongenin/Library/Caches/pip/wheels/d0/73/a3/85621bee86fa3dc23ddc3e0b19d8dcf58e3bc232ccd05793ed',\n",
       " 'Successfully built pulp',\n",
       " 'Installing collected packages: pulp',\n",
       " 'Successfully installed pulp-1.6.8']"
      ]
     },
     "execution_count": 6,
     "metadata": {},
     "output_type": "execute_result"
    }
   ],
   "source": [
    "!! /Users/simongenin/anaconda/envs/ML/bin/pip install pulp"
   ]
  },
  {
   "cell_type": "code",
   "execution_count": 9,
   "metadata": {},
   "outputs": [],
   "source": [
    "\n",
    "\n",
    "# Bus Data\n",
    "\n",
    "busData = {\n",
    "    'LFA': {\n",
    "        'cost' : 570000,\n",
    "        'capacity' : 140\n",
    "    },\n",
    "    'LF':{\n",
    "        'cost' : 390000,\n",
    "        'capacity' : 92\n",
    "    },\n",
    "    'LE': {\n",
    "        'cost' : 350000,\n",
    "        'capacity' : 60\n",
    "    }\n",
    "}\n"
   ]
  },
  {
   "cell_type": "markdown",
   "metadata": {},
   "source": [
    "# Cost function\n",
    "\n",
    "numLFA : ???\n",
    "numLF: ???\n",
    "numLE: ???\n"
   ]
  },
  {
   "cell_type": "code",
   "execution_count": 6,
   "metadata": {
    "collapsed": true
   },
   "outputs": [],
   "source": [
    "### Cost Function\n",
    "\n",
    "\n",
    "def costFunction(numLFA, numLF, numLE):\n",
    "    return (numLFA * busData['LFA']['cost']) + (numLF * busData['LF']['cost']) + (numLE * busData['LE']['cost'])\n"
   ]
  },
  {
   "cell_type": "code",
   "execution_count": null,
   "metadata": {},
   "outputs": [],
   "source": []
  },
  {
   "cell_type": "code",
   "execution_count": 8,
   "metadata": {
    "collapsed": true
   },
   "outputs": [],
   "source": [
    "### Initializing Data\n",
    "\n",
    "data = {\n",
    "    'timeslot_1': {\n",
    "        'time': 240,\n",
    "        \n",
    "        'route_1' : {\n",
    "            'passengers' : 700,\n",
    "            'bus_frequency' : 10,\n",
    "            'distance' : 10,\n",
    "            'duration' : 30\n",
    "        },\n",
    "        \n",
    "        'route_2' : {\n",
    "            'passengers' : 2000,\n",
    "            'bus_frequency' : 10,\n",
    "            'distance' : 10,\n",
    "            'duration' : 40\n",
    "        }\n",
    "        \n",
    "    }\n",
    "}"
   ]
  },
  {
   "cell_type": "code",
   "execution_count": 1,
   "metadata": {},
   "outputs": [],
   "source": [
    "### Importing Modules\n",
    "\n",
    "import pandas\n",
    "import pulp"
   ]
  },
  {
   "cell_type": "code",
   "execution_count": 2,
   "metadata": {
    "collapsed": true
   },
   "outputs": [],
   "source": [
    "### Calculating max appearance from timeslot, route\n",
    "\n",
    "def maxAppearanceLFA(route,timeslot,numLFA):\n",
    "    timeslotDuration = data[timeslot]['time']\n",
    "    roundtripDuration = data[timeslot][route]['duration']\n",
    "    \n",
    "    maxAppearLFA = numLFA*timeslotDuration/roundtripDuration\n",
    "    return maxAppearLFA\n",
    "\n",
    "def maxAppearanceLF(route,timeslot,numLF):\n",
    "    timeslotDuration = data[timeslot]['time']\n",
    "    roundtripDuration = data[timeslot][route]['duration']\n",
    "    \n",
    "    maxAppearLF = numLF*timeslotDuration/roundtripDuration\n",
    "    return maxAppearLF\n",
    "\n",
    "def maxAppearanceLE(route,timeslot,numLE):\n",
    "    timeslotDuration = data[timeslot]['time']\n",
    "    roundtripDuration = data[timeslot][route]['duration']\n",
    "    \n",
    "    maxAppearLE = numLE*timeslotDuration/roundtripDuration\n",
    "    return maxAppearLE"
   ]
  },
  {
   "cell_type": "code",
   "execution_count": 10,
   "metadata": {
    "collapsed": true
   },
   "outputs": [],
   "source": [
    "### Linear Programming Optimization\n",
    "\n",
    "def solveLP(route,timeslot):\n",
    "\n",
    "    # Instantiate Problem\n",
    "    model = pulp.LpProblem(\"Cost Optimisation\", pulp.LpMinimize)\n",
    "\n",
    "    # Number of buses of types\n",
    "    numLFA = pulp.LpVariable('numLFA',lowBound = 0, cat = 'Integer')\n",
    "    numLF = pulp.LpVariable('numLF',lowBound = 0, cat = 'Integer')\n",
    "    numLE = pulp.LpVariable('numLE',lowBound = 0, cat = 'Integer')\n",
    "\n",
    "    # Objective function\n",
    "    model += costFunction(numLFA,numLF,numLE), \"Cost\"\n",
    "\n",
    "    # Constraint 1 (Number of bus appearances)\n",
    "    \n",
    "    model += ((maxAppearanceLFA(route,timeslot,numLFA) + maxAppearanceLF(route,timeslot,numLF) + maxAppearanceLE(route,timeslot,numLE)) <= data[timeslot]['time']/data[timeslot][route]['bus_frequency'])\n",
    "    \n",
    "    # Constraint 2 (Passenger Capacity)\n",
    "\n",
    "    model += (maxAppearanceLFA(route,timeslot,numLFA)*busData['LFA']['capacity']+\n",
    "                maxAppearanceLF(route,timeslot,numLF)*busData['LF']['capacity']+\n",
    "                maxAppearanceLE(route,timeslot,numLE)*busData['LE']['capacity']) <= data[timeslot][route]['passengers']\n",
    "    \n",
    "    \n",
    "    # Solving\n",
    "    \n",
    "    model.solve()\n",
    "    print('Status: ' + str(pulp.LpStatus[model.status]))\n",
    "    \n",
    "    print('numLFA: {}'.format(numLFA.varValue))\n",
    "    print('numLF: {}'.format(numLF.varValue))\n",
    "    print('numLE: {}'.format(numLE.varValue))\n",
    "    \n",
    "    print('Cost: ' + str(pulp.value(model.objective)))"
   ]
  },
  {
   "cell_type": "code",
   "execution_count": 11,
   "metadata": {
    "collapsed": true
   },
   "outputs": [
    {
     "ename": "NameError",
     "evalue": "name 'numLF' is not defined",
     "output_type": "error",
     "traceback": [
      "\u001b[0;31m---------------------------------------------------------------------------\u001b[0m",
      "\u001b[0;31mNameError\u001b[0m                                 Traceback (most recent call last)",
      "\u001b[0;32m<ipython-input-11-d2552390324a>\u001b[0m in \u001b[0;36m<module>\u001b[0;34m()\u001b[0m\n\u001b[0;32m----> 1\u001b[0;31m \u001b[0msolveLP\u001b[0m\u001b[0;34m(\u001b[0m\u001b[0;34m'route_1'\u001b[0m\u001b[0;34m,\u001b[0m \u001b[0;34m'timeslot_1'\u001b[0m\u001b[0;34m)\u001b[0m\u001b[0;34m\u001b[0m\u001b[0m\n\u001b[0m",
      "\u001b[0;32m<ipython-input-10-1f09c258fa13>\u001b[0m in \u001b[0;36msolveLP\u001b[0;34m(route, timeslot)\u001b[0m\n\u001b[1;32m     16\u001b[0m     \u001b[0;31m# Constraint 1 (Number of bus appearances)\u001b[0m\u001b[0;34m\u001b[0m\u001b[0;34m\u001b[0m\u001b[0m\n\u001b[1;32m     17\u001b[0m \u001b[0;34m\u001b[0m\u001b[0m\n\u001b[0;32m---> 18\u001b[0;31m     \u001b[0mmodel\u001b[0m \u001b[0;34m+=\u001b[0m \u001b[0;34m(\u001b[0m\u001b[0;34m(\u001b[0m\u001b[0mmaxAppearanceLFA\u001b[0m\u001b[0;34m(\u001b[0m\u001b[0mroute\u001b[0m\u001b[0;34m,\u001b[0m\u001b[0mtimeslot\u001b[0m\u001b[0;34m,\u001b[0m\u001b[0mnumLFA\u001b[0m\u001b[0;34m)\u001b[0m \u001b[0;34m+\u001b[0m \u001b[0mmaxAppearanceLF\u001b[0m\u001b[0;34m(\u001b[0m\u001b[0mroute\u001b[0m\u001b[0;34m,\u001b[0m\u001b[0mtimeslot\u001b[0m\u001b[0;34m,\u001b[0m\u001b[0mnumLF\u001b[0m\u001b[0;34m)\u001b[0m \u001b[0;34m+\u001b[0m \u001b[0mmaxAppearanceLE\u001b[0m\u001b[0;34m(\u001b[0m\u001b[0mroute\u001b[0m\u001b[0;34m,\u001b[0m\u001b[0mtimeslot\u001b[0m\u001b[0;34m,\u001b[0m\u001b[0mnumLE\u001b[0m\u001b[0;34m)\u001b[0m\u001b[0;34m)\u001b[0m \u001b[0;34m<=\u001b[0m \u001b[0mdata\u001b[0m\u001b[0;34m[\u001b[0m\u001b[0mtimeslot\u001b[0m\u001b[0;34m]\u001b[0m\u001b[0;34m[\u001b[0m\u001b[0;34m'time'\u001b[0m\u001b[0;34m]\u001b[0m\u001b[0;34m/\u001b[0m\u001b[0mdata\u001b[0m\u001b[0;34m[\u001b[0m\u001b[0mtimeslot\u001b[0m\u001b[0;34m]\u001b[0m\u001b[0;34m[\u001b[0m\u001b[0mroute\u001b[0m\u001b[0;34m]\u001b[0m\u001b[0;34m[\u001b[0m\u001b[0;34m'bus_frequency'\u001b[0m\u001b[0;34m]\u001b[0m\u001b[0;34m)\u001b[0m\u001b[0;34m\u001b[0m\u001b[0m\n\u001b[0m\u001b[1;32m     19\u001b[0m \u001b[0;34m\u001b[0m\u001b[0m\n\u001b[1;32m     20\u001b[0m     \u001b[0;31m# Constraint 2 (Passenger Capacity)\u001b[0m\u001b[0;34m\u001b[0m\u001b[0;34m\u001b[0m\u001b[0m\n",
      "\u001b[0;32m<ipython-input-2-5f8cac0274e8>\u001b[0m in \u001b[0;36mmaxAppearanceLF\u001b[0;34m(route, timeslot, numLP)\u001b[0m\n\u001b[1;32m     12\u001b[0m     \u001b[0mroundtripDuration\u001b[0m \u001b[0;34m=\u001b[0m \u001b[0mdata\u001b[0m\u001b[0;34m[\u001b[0m\u001b[0mtimeslot\u001b[0m\u001b[0;34m]\u001b[0m\u001b[0;34m[\u001b[0m\u001b[0mroute\u001b[0m\u001b[0;34m]\u001b[0m\u001b[0;34m[\u001b[0m\u001b[0;34m'duration'\u001b[0m\u001b[0;34m]\u001b[0m\u001b[0;34m\u001b[0m\u001b[0m\n\u001b[1;32m     13\u001b[0m \u001b[0;34m\u001b[0m\u001b[0m\n\u001b[0;32m---> 14\u001b[0;31m     \u001b[0mmaxAppearLF\u001b[0m \u001b[0;34m=\u001b[0m \u001b[0mnumLF\u001b[0m\u001b[0;34m*\u001b[0m\u001b[0mtimeslotDuration\u001b[0m\u001b[0;34m/\u001b[0m\u001b[0mroundtripDuration\u001b[0m\u001b[0;34m\u001b[0m\u001b[0m\n\u001b[0m\u001b[1;32m     15\u001b[0m     \u001b[0;32mreturn\u001b[0m \u001b[0mmaxAppearLF\u001b[0m\u001b[0;34m\u001b[0m\u001b[0m\n\u001b[1;32m     16\u001b[0m \u001b[0;34m\u001b[0m\u001b[0m\n",
      "\u001b[0;31mNameError\u001b[0m: name 'numLF' is not defined"
     ]
    }
   ],
   "source": [
    "solveLP('route_1', 'timeslot_1')"
   ]
  },
  {
   "cell_type": "code",
   "execution_count": null,
   "metadata": {},
   "outputs": [],
   "source": []
  },
  {
   "cell_type": "code",
   "execution_count": null,
   "metadata": {},
   "outputs": [],
   "source": []
  }
 ],
 "metadata": {
  "kernelspec": {
   "display_name": "Python 3",
   "language": "python",
   "name": "python3"
  },
  "language_info": {
   "codemirror_mode": {
    "name": "ipython",
    "version": 3
   },
   "file_extension": ".py",
   "mimetype": "text/x-python",
   "name": "python",
   "nbconvert_exporter": "python",
   "pygments_lexer": "ipython3",
   "version": "3.6.1"
  }
 },
 "nbformat": 4,
 "nbformat_minor": 2
}
